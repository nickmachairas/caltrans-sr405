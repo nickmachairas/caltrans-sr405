{
 "cells": [
  {
   "cell_type": "markdown",
   "id": "6cdb6550-a683-4048-a20a-ec12ca5f112b",
   "metadata": {},
   "source": [
    "Import the required libraries:"
   ]
  },
  {
   "cell_type": "code",
   "execution_count": 1,
   "id": "e5b65db4-1e67-4fa5-b94b-fb7eca49ee69",
   "metadata": {},
   "outputs": [],
   "source": [
    "import os\n",
    "import pandas as pd"
   ]
  },
  {
   "cell_type": "markdown",
   "id": "506ad196-812c-4908-8a2a-20f1fdc70dbe",
   "metadata": {},
   "source": [
    "Load the CPT data:"
   ]
  },
  {
   "cell_type": "code",
   "execution_count": 2,
   "id": "f7a92890-32f4-40ae-8794-413bd2e67b76",
   "metadata": {},
   "outputs": [],
   "source": [
    "cpt_data = pd.read_csv(os.path.join('..', 'data', '249769_cpt_data.csv'))"
   ]
  },
  {
   "cell_type": "code",
   "execution_count": 3,
   "id": "d01d85ed-ce35-4d54-bcf8-8b5efa58957b",
   "metadata": {},
   "outputs": [
    {
     "name": "stdout",
     "output_type": "stream",
     "text": [
      "<class 'pandas.core.frame.DataFrame'>\n",
      "RangeIndex: 334201 entries, 0 to 334200\n",
      "Data columns (total 10 columns):\n",
      " #   Column           Non-Null Count   Dtype  \n",
      "---  ------           --------------   -----  \n",
      " 0   PointID          334201 non-null  object \n",
      " 1   Elevation        334201 non-null  float64\n",
      " 2   Depth            334201 non-null  float64\n",
      " 3   Friction         334201 non-null  float64\n",
      " 4   Cone_Resistance  334201 non-null  float64\n",
      " 5   Friction_Ratio   334181 non-null  float64\n",
      " 6   Pore_Pressure    332044 non-null  float64\n",
      " 7   CPT_Soil_Code    289485 non-null  object \n",
      " 8   Easting          334201 non-null  float64\n",
      " 9   Northing         334201 non-null  float64\n",
      "dtypes: float64(8), object(2)\n",
      "memory usage: 25.5+ MB\n"
     ]
    }
   ],
   "source": [
    "cpt_data.info()"
   ]
  },
  {
   "cell_type": "code",
   "execution_count": 4,
   "id": "b730c2cb-1685-4b2d-a06b-fac54b84b20e",
   "metadata": {},
   "outputs": [
    {
     "data": {
      "text/html": [
       "<div>\n",
       "<style scoped>\n",
       "    .dataframe tbody tr th:only-of-type {\n",
       "        vertical-align: middle;\n",
       "    }\n",
       "\n",
       "    .dataframe tbody tr th {\n",
       "        vertical-align: top;\n",
       "    }\n",
       "\n",
       "    .dataframe thead th {\n",
       "        text-align: right;\n",
       "    }\n",
       "</style>\n",
       "<table border=\"1\" class=\"dataframe\">\n",
       "  <thead>\n",
       "    <tr style=\"text-align: right;\">\n",
       "      <th></th>\n",
       "      <th>PointID</th>\n",
       "      <th>Elevation</th>\n",
       "      <th>Depth</th>\n",
       "      <th>Friction</th>\n",
       "      <th>Cone_Resistance</th>\n",
       "      <th>Friction_Ratio</th>\n",
       "      <th>Pore_Pressure</th>\n",
       "      <th>CPT_Soil_Code</th>\n",
       "      <th>Easting</th>\n",
       "      <th>Northing</th>\n",
       "    </tr>\n",
       "  </thead>\n",
       "  <tbody>\n",
       "    <tr>\n",
       "      <th>0</th>\n",
       "      <td>CPT-14-103</td>\n",
       "      <td>28.48</td>\n",
       "      <td>0.16</td>\n",
       "      <td>0.00</td>\n",
       "      <td>62.50</td>\n",
       "      <td>0.00</td>\n",
       "      <td>0.05</td>\n",
       "      <td>NaN</td>\n",
       "      <td>6049088.00</td>\n",
       "      <td>2200813.58</td>\n",
       "    </tr>\n",
       "    <tr>\n",
       "      <th>1</th>\n",
       "      <td>CPT-14-103</td>\n",
       "      <td>28.32</td>\n",
       "      <td>0.32</td>\n",
       "      <td>0.10</td>\n",
       "      <td>73.00</td>\n",
       "      <td>0.14</td>\n",
       "      <td>0.07</td>\n",
       "      <td>NaN</td>\n",
       "      <td>6049088.00</td>\n",
       "      <td>2200813.58</td>\n",
       "    </tr>\n",
       "    <tr>\n",
       "      <th>2</th>\n",
       "      <td>CPT-14-103</td>\n",
       "      <td>28.15</td>\n",
       "      <td>0.49</td>\n",
       "      <td>0.07</td>\n",
       "      <td>63.50</td>\n",
       "      <td>0.11</td>\n",
       "      <td>0.08</td>\n",
       "      <td>NaN</td>\n",
       "      <td>6049088.00</td>\n",
       "      <td>2200813.58</td>\n",
       "    </tr>\n",
       "    <tr>\n",
       "      <th>3</th>\n",
       "      <td>CPT-14-103</td>\n",
       "      <td>27.99</td>\n",
       "      <td>0.65</td>\n",
       "      <td>0.07</td>\n",
       "      <td>64.40</td>\n",
       "      <td>0.11</td>\n",
       "      <td>0.09</td>\n",
       "      <td>NaN</td>\n",
       "      <td>6049088.00</td>\n",
       "      <td>2200813.58</td>\n",
       "    </tr>\n",
       "    <tr>\n",
       "      <th>4</th>\n",
       "      <td>CPT-14-103</td>\n",
       "      <td>27.82</td>\n",
       "      <td>0.82</td>\n",
       "      <td>0.06</td>\n",
       "      <td>58.50</td>\n",
       "      <td>0.10</td>\n",
       "      <td>0.12</td>\n",
       "      <td>NaN</td>\n",
       "      <td>6049088.00</td>\n",
       "      <td>2200813.58</td>\n",
       "    </tr>\n",
       "    <tr>\n",
       "      <th>...</th>\n",
       "      <td>...</td>\n",
       "      <td>...</td>\n",
       "      <td>...</td>\n",
       "      <td>...</td>\n",
       "      <td>...</td>\n",
       "      <td>...</td>\n",
       "      <td>...</td>\n",
       "      <td>...</td>\n",
       "      <td>...</td>\n",
       "      <td>...</td>\n",
       "    </tr>\n",
       "    <tr>\n",
       "      <th>334196</th>\n",
       "      <td>CPT-21-0115</td>\n",
       "      <td>-56.81</td>\n",
       "      <td>92.35</td>\n",
       "      <td>2.84</td>\n",
       "      <td>498.54</td>\n",
       "      <td>0.56</td>\n",
       "      <td>18.06</td>\n",
       "      <td>NaN</td>\n",
       "      <td>6059248.77</td>\n",
       "      <td>2197841.22</td>\n",
       "    </tr>\n",
       "    <tr>\n",
       "      <th>334197</th>\n",
       "      <td>CPT-21-0115</td>\n",
       "      <td>-56.98</td>\n",
       "      <td>92.52</td>\n",
       "      <td>2.56</td>\n",
       "      <td>493.72</td>\n",
       "      <td>0.54</td>\n",
       "      <td>17.77</td>\n",
       "      <td>NaN</td>\n",
       "      <td>6059248.77</td>\n",
       "      <td>2197841.22</td>\n",
       "    </tr>\n",
       "    <tr>\n",
       "      <th>334198</th>\n",
       "      <td>CPT-21-0115</td>\n",
       "      <td>-57.14</td>\n",
       "      <td>92.68</td>\n",
       "      <td>2.61</td>\n",
       "      <td>490.49</td>\n",
       "      <td>0.51</td>\n",
       "      <td>17.62</td>\n",
       "      <td>NaN</td>\n",
       "      <td>6059248.77</td>\n",
       "      <td>2197841.22</td>\n",
       "    </tr>\n",
       "    <tr>\n",
       "      <th>334199</th>\n",
       "      <td>CPT-21-0115</td>\n",
       "      <td>-57.30</td>\n",
       "      <td>92.84</td>\n",
       "      <td>2.61</td>\n",
       "      <td>527.24</td>\n",
       "      <td>0.51</td>\n",
       "      <td>17.22</td>\n",
       "      <td>NaN</td>\n",
       "      <td>6059248.77</td>\n",
       "      <td>2197841.22</td>\n",
       "    </tr>\n",
       "    <tr>\n",
       "      <th>334200</th>\n",
       "      <td>CPT-21-0115</td>\n",
       "      <td>-57.47</td>\n",
       "      <td>93.01</td>\n",
       "      <td>2.68</td>\n",
       "      <td>509.79</td>\n",
       "      <td>0.51</td>\n",
       "      <td>17.15</td>\n",
       "      <td>NaN</td>\n",
       "      <td>6059248.77</td>\n",
       "      <td>2197841.22</td>\n",
       "    </tr>\n",
       "  </tbody>\n",
       "</table>\n",
       "<p>334201 rows × 10 columns</p>\n",
       "</div>"
      ],
      "text/plain": [
       "            PointID  Elevation  Depth  Friction  Cone_Resistance  \\\n",
       "0        CPT-14-103      28.48   0.16      0.00            62.50   \n",
       "1        CPT-14-103      28.32   0.32      0.10            73.00   \n",
       "2        CPT-14-103      28.15   0.49      0.07            63.50   \n",
       "3        CPT-14-103      27.99   0.65      0.07            64.40   \n",
       "4        CPT-14-103      27.82   0.82      0.06            58.50   \n",
       "...             ...        ...    ...       ...              ...   \n",
       "334196  CPT-21-0115     -56.81  92.35      2.84           498.54   \n",
       "334197  CPT-21-0115     -56.98  92.52      2.56           493.72   \n",
       "334198  CPT-21-0115     -57.14  92.68      2.61           490.49   \n",
       "334199  CPT-21-0115     -57.30  92.84      2.61           527.24   \n",
       "334200  CPT-21-0115     -57.47  93.01      2.68           509.79   \n",
       "\n",
       "        Friction_Ratio  Pore_Pressure CPT_Soil_Code     Easting    Northing  \n",
       "0                 0.00           0.05           NaN  6049088.00  2200813.58  \n",
       "1                 0.14           0.07           NaN  6049088.00  2200813.58  \n",
       "2                 0.11           0.08           NaN  6049088.00  2200813.58  \n",
       "3                 0.11           0.09           NaN  6049088.00  2200813.58  \n",
       "4                 0.10           0.12           NaN  6049088.00  2200813.58  \n",
       "...                ...            ...           ...         ...         ...  \n",
       "334196            0.56          18.06           NaN  6059248.77  2197841.22  \n",
       "334197            0.54          17.77           NaN  6059248.77  2197841.22  \n",
       "334198            0.51          17.62           NaN  6059248.77  2197841.22  \n",
       "334199            0.51          17.22           NaN  6059248.77  2197841.22  \n",
       "334200            0.51          17.15           NaN  6059248.77  2197841.22  \n",
       "\n",
       "[334201 rows x 10 columns]"
      ]
     },
     "execution_count": 4,
     "metadata": {},
     "output_type": "execute_result"
    }
   ],
   "source": [
    "cpt_data"
   ]
  },
  {
   "cell_type": "markdown",
   "id": "28caed94-369e-4d88-957c-b307b9945cca",
   "metadata": {},
   "source": [
    "How many soil types are defined?"
   ]
  },
  {
   "cell_type": "code",
   "execution_count": 5,
   "id": "35c1f13f-2e46-4d5b-aa44-108d7587dfaf",
   "metadata": {},
   "outputs": [
    {
     "data": {
      "text/plain": [
       "array([nan, 'OL-OH', 'SW-SP', 'SW-GW', 'SM-SP', 'SM-ML', 'ML-MH', 'MH-CL',\n",
       "       'CL-CH', 'CH', 'CH-CL', 'SC-SM', 'OL-CH'], dtype=object)"
      ]
     },
     "execution_count": 5,
     "metadata": {},
     "output_type": "execute_result"
    }
   ],
   "source": [
    "cpt_data['CPT_Soil_Code'].unique()"
   ]
  },
  {
   "cell_type": "markdown",
   "id": "4aea1b3b-307a-4967-8f02-1be7c71495b3",
   "metadata": {},
   "source": [
    "Missing values (nan) are not helpful here, best to be removed."
   ]
  },
  {
   "cell_type": "code",
   "execution_count": 6,
   "id": "845f25ba-8d5d-460f-8ae6-4f2dbc1b5307",
   "metadata": {},
   "outputs": [
    {
     "name": "stdout",
     "output_type": "stream",
     "text": [
      "<class 'pandas.core.frame.DataFrame'>\n",
      "Index: 288870 entries, 35804 to 332134\n",
      "Data columns (total 10 columns):\n",
      " #   Column           Non-Null Count   Dtype  \n",
      "---  ------           --------------   -----  \n",
      " 0   PointID          288870 non-null  object \n",
      " 1   Elevation        288870 non-null  float64\n",
      " 2   Depth            288870 non-null  float64\n",
      " 3   Friction         288870 non-null  float64\n",
      " 4   Cone_Resistance  288870 non-null  float64\n",
      " 5   Friction_Ratio   288870 non-null  float64\n",
      " 6   Pore_Pressure    288870 non-null  float64\n",
      " 7   CPT_Soil_Code    288870 non-null  object \n",
      " 8   Easting          288870 non-null  float64\n",
      " 9   Northing         288870 non-null  float64\n",
      "dtypes: float64(8), object(2)\n",
      "memory usage: 24.2+ MB\n"
     ]
    }
   ],
   "source": [
    "cpt_data.dropna(inplace=True)\n",
    "cpt_data.info()"
   ]
  },
  {
   "cell_type": "markdown",
   "id": "9f3dcd06-0bc5-43fd-abfa-d98a1d9dfba1",
   "metadata": {},
   "source": [
    "Soil codes have to be converted to integers before applying the classification model"
   ]
  },
  {
   "cell_type": "code",
   "execution_count": 7,
   "id": "3d4326a4-98f2-45ab-bbf5-bdc4a46fa76e",
   "metadata": {},
   "outputs": [],
   "source": [
    "soil_codes = {\n",
    "    'OL-OH':  0,\n",
    "    'SW-SP':  1,\n",
    "    'SW-GW':  2,\n",
    "    'SM-SP':  3,\n",
    "    'SM-ML':  4,\n",
    "    'ML-MH':  5,\n",
    "    'MH-CL':  6,\n",
    "    'CL-CH':  7,\n",
    "    'CH':     8,\n",
    "    'CH-CL':  9,\n",
    "    'SC-SM': 10,\n",
    "    'OL-CH': 11\n",
    "}"
   ]
  },
  {
   "cell_type": "code",
   "execution_count": 8,
   "id": "f9d4d57d-5128-471f-8a9f-a934bb68fbe4",
   "metadata": {},
   "outputs": [
    {
     "data": {
      "text/html": [
       "<div>\n",
       "<style scoped>\n",
       "    .dataframe tbody tr th:only-of-type {\n",
       "        vertical-align: middle;\n",
       "    }\n",
       "\n",
       "    .dataframe tbody tr th {\n",
       "        vertical-align: top;\n",
       "    }\n",
       "\n",
       "    .dataframe thead th {\n",
       "        text-align: right;\n",
       "    }\n",
       "</style>\n",
       "<table border=\"1\" class=\"dataframe\">\n",
       "  <thead>\n",
       "    <tr style=\"text-align: right;\">\n",
       "      <th></th>\n",
       "      <th>PointID</th>\n",
       "      <th>Elevation</th>\n",
       "      <th>Depth</th>\n",
       "      <th>Friction</th>\n",
       "      <th>Cone_Resistance</th>\n",
       "      <th>Friction_Ratio</th>\n",
       "      <th>Pore_Pressure</th>\n",
       "      <th>CPT_Soil_Code</th>\n",
       "      <th>Easting</th>\n",
       "      <th>Northing</th>\n",
       "    </tr>\n",
       "  </thead>\n",
       "  <tbody>\n",
       "    <tr>\n",
       "      <th>35804</th>\n",
       "      <td>CPT-17-0005</td>\n",
       "      <td>37.363</td>\n",
       "      <td>1.38</td>\n",
       "      <td>0.23</td>\n",
       "      <td>2.42</td>\n",
       "      <td>9.75</td>\n",
       "      <td>-0.0021</td>\n",
       "      <td>0</td>\n",
       "      <td>6064206.6</td>\n",
       "      <td>2197636.59</td>\n",
       "    </tr>\n",
       "    <tr>\n",
       "      <th>35805</th>\n",
       "      <td>CPT-17-0005</td>\n",
       "      <td>37.303</td>\n",
       "      <td>1.44</td>\n",
       "      <td>0.56</td>\n",
       "      <td>114.61</td>\n",
       "      <td>0.49</td>\n",
       "      <td>-0.0009</td>\n",
       "      <td>1</td>\n",
       "      <td>6064206.6</td>\n",
       "      <td>2197636.59</td>\n",
       "    </tr>\n",
       "    <tr>\n",
       "      <th>35806</th>\n",
       "      <td>CPT-17-0005</td>\n",
       "      <td>37.233</td>\n",
       "      <td>1.51</td>\n",
       "      <td>0.84</td>\n",
       "      <td>225.78</td>\n",
       "      <td>0.38</td>\n",
       "      <td>0.0004</td>\n",
       "      <td>2</td>\n",
       "      <td>6064206.6</td>\n",
       "      <td>2197636.59</td>\n",
       "    </tr>\n",
       "    <tr>\n",
       "      <th>35807</th>\n",
       "      <td>CPT-17-0005</td>\n",
       "      <td>37.173</td>\n",
       "      <td>1.57</td>\n",
       "      <td>1.54</td>\n",
       "      <td>225.78</td>\n",
       "      <td>0.68</td>\n",
       "      <td>0.0300</td>\n",
       "      <td>2</td>\n",
       "      <td>6064206.6</td>\n",
       "      <td>2197636.59</td>\n",
       "    </tr>\n",
       "    <tr>\n",
       "      <th>35808</th>\n",
       "      <td>CPT-17-0005</td>\n",
       "      <td>37.103</td>\n",
       "      <td>1.64</td>\n",
       "      <td>1.65</td>\n",
       "      <td>225.78</td>\n",
       "      <td>0.73</td>\n",
       "      <td>-0.0077</td>\n",
       "      <td>2</td>\n",
       "      <td>6064206.6</td>\n",
       "      <td>2197636.59</td>\n",
       "    </tr>\n",
       "  </tbody>\n",
       "</table>\n",
       "</div>"
      ],
      "text/plain": [
       "           PointID  Elevation  Depth  Friction  Cone_Resistance  \\\n",
       "35804  CPT-17-0005     37.363   1.38      0.23             2.42   \n",
       "35805  CPT-17-0005     37.303   1.44      0.56           114.61   \n",
       "35806  CPT-17-0005     37.233   1.51      0.84           225.78   \n",
       "35807  CPT-17-0005     37.173   1.57      1.54           225.78   \n",
       "35808  CPT-17-0005     37.103   1.64      1.65           225.78   \n",
       "\n",
       "       Friction_Ratio  Pore_Pressure  CPT_Soil_Code    Easting    Northing  \n",
       "35804            9.75        -0.0021              0  6064206.6  2197636.59  \n",
       "35805            0.49        -0.0009              1  6064206.6  2197636.59  \n",
       "35806            0.38         0.0004              2  6064206.6  2197636.59  \n",
       "35807            0.68         0.0300              2  6064206.6  2197636.59  \n",
       "35808            0.73        -0.0077              2  6064206.6  2197636.59  "
      ]
     },
     "execution_count": 8,
     "metadata": {},
     "output_type": "execute_result"
    }
   ],
   "source": [
    "cpt_data['CPT_Soil_Code'].replace(soil_codes, inplace=True)\n",
    "cpt_data.head()"
   ]
  },
  {
   "cell_type": "markdown",
   "id": "078ac713-53bb-4433-83cb-32362bee1704",
   "metadata": {},
   "source": [
    "Data prep for classification. Let's try different combinations of features."
   ]
  },
  {
   "cell_type": "code",
   "execution_count": 9,
   "id": "3308d161-1351-4b16-9113-1b0efed6c5fd",
   "metadata": {},
   "outputs": [],
   "source": [
    "features = [\n",
    "    'Depth', 'Friction', 'Cone_Resistance', 'Friction_Ratio',\n",
    "    'Pore_Pressure', 'Easting', 'Northing'\n",
    "]\n",
    "\n",
    "X = cpt_data[features]\n",
    "y = cpt_data['CPT_Soil_Code']"
   ]
  },
  {
   "cell_type": "markdown",
   "id": "493a593d-6f1b-4cbb-acc7-ed754815ac76",
   "metadata": {},
   "source": [
    "Split X and y into training and testing sets. Random samples (rows) now, perhaps by point later."
   ]
  },
  {
   "cell_type": "code",
   "execution_count": 10,
   "id": "5bbff63f-8ba1-4eff-8fb6-070c6a9d3fe9",
   "metadata": {},
   "outputs": [],
   "source": [
    "from sklearn.model_selection import train_test_split\n",
    "\n",
    "X_train, X_test, y_train, y_test = train_test_split(X, y, test_size=0.25, random_state=1)"
   ]
  },
  {
   "cell_type": "markdown",
   "id": "f45cb9a4-68d8-4c0b-a5a4-29ba9fe0fe46",
   "metadata": {},
   "source": [
    "Apply the logistic regression model, one of the most common classifiers."
   ]
  },
  {
   "cell_type": "code",
   "execution_count": 16,
   "id": "4d0e1608-fd97-46d0-af53-6446ec16c618",
   "metadata": {},
   "outputs": [
    {
     "name": "stdout",
     "output_type": "stream",
     "text": [
      "Score: 0.9710044587222022\n"
     ]
    }
   ],
   "source": [
    "from sklearn.linear_model import LogisticRegression\n",
    "from sklearn.svm import SVC\n",
    "from sklearn.pipeline import make_pipeline\n",
    "from sklearn.preprocessing import StandardScaler\n",
    "\n",
    "# instantiate the model\n",
    "# logreg = LogisticRegression(random_state=1, max_iter=1000)\n",
    "\n",
    "# fit the model\n",
    "# logreg.fit(X_train, y_train)\n",
    "\n",
    "# y_pred = logreg.predict(X_test)\n",
    "\n",
    "# pipe = make_pipeline(StandardScaler(), LogisticRegression(max_iter=1000)) # 87%\n",
    "pipe = make_pipeline(StandardScaler(), SVC()) # 97% !!! Took ~10 minutes to run\n",
    "pipe.fit(X_train, y_train)\n",
    "\n",
    "print('Score:', pipe.score(X_test, y_test))\n",
    "\n",
    "y_pred = pipe.predict(X_test)"
   ]
  },
  {
   "cell_type": "markdown",
   "id": "97393a16-d6a8-44bc-97ad-d476ab1b1385",
   "metadata": {},
   "source": [
    "Review the confusion matrix:"
   ]
  },
  {
   "cell_type": "code",
   "execution_count": 18,
   "id": "23a0ae39-02b2-42d7-acf7-0146e70d058b",
   "metadata": {},
   "outputs": [],
   "source": [
    "from sklearn import metrics\n",
    "\n",
    "cnf_matrix = metrics.confusion_matrix(y_test, y_pred)"
   ]
  },
  {
   "cell_type": "code",
   "execution_count": 19,
   "id": "d4091d04-6a0a-43c7-bab7-b86f2df1cd71",
   "metadata": {},
   "outputs": [
    {
     "data": {
      "text/plain": [
       "Text(0.5, 427.9555555555555, 'Predicted label')"
      ]
     },
     "execution_count": 19,
     "metadata": {},
     "output_type": "execute_result"
    },
    {
     "data": {
      "image/png": "[encoded data removed]",
      "text/plain": [
       "<Figure size 640x480 with 2 Axes>"
      ]
     },
     "metadata": {},
     "output_type": "display_data"
    }
   ],
   "source": [
    "# import required modules\n",
    "import numpy as np\n",
    "import matplotlib.pyplot as plt\n",
    "import seaborn as sns\n",
    "\n",
    "class_names=[0,1] # name  of classes\n",
    "fig, ax = plt.subplots()\n",
    "tick_marks = np.arange(len(class_names))\n",
    "plt.xticks(tick_marks, class_names)\n",
    "plt.yticks(tick_marks, class_names)\n",
    "# create heatmap\n",
    "sns.heatmap(pd.DataFrame(cnf_matrix), annot=True, cmap=\"YlGnBu\" ,fmt='g')\n",
    "ax.xaxis.set_label_position(\"top\")\n",
    "plt.tight_layout()\n",
    "plt.title('Confusion matrix', y=1.1)\n",
    "plt.ylabel('Actual label')\n",
    "plt.xlabel('Predicted label')"
   ]
  },
  {
   "cell_type": "code",
   "execution_count": 20,
   "id": "e1f0f79c-2c8d-46dc-90e7-2c8bf6b27dfd",
   "metadata": {},
   "outputs": [
    {
     "name": "stdout",
     "output_type": "stream",
     "text": [
      "              precision    recall  f1-score   support\n",
      "\n",
      "       OL-OH       0.83      0.45      0.58        42\n",
      "       SW-SP       0.98      0.97      0.98      6671\n",
      "       SW-GW       0.99      0.99      0.99      9380\n",
      "       SM-SP       0.97      0.98      0.97      7956\n",
      "       SM-ML       0.98      0.98      0.98      8068\n",
      "       ML-MH       0.97      0.96      0.96      7780\n",
      "       MH-CL       0.95      0.97      0.96      9801\n",
      "       CL-CH       0.95      0.95      0.95      7748\n",
      "          CH       0.98      0.98      0.98     13289\n",
      "       CH-CL       0.96      0.95      0.96      1156\n",
      "       SC-SM       0.87      0.89      0.88       223\n",
      "       OL-CH       0.80      0.61      0.69       104\n",
      "\n",
      "    accuracy                           0.97     72218\n",
      "   macro avg       0.94      0.89      0.91     72218\n",
      "weighted avg       0.97      0.97      0.97     72218\n",
      "\n"
     ]
    }
   ],
   "source": [
    "from sklearn.metrics import classification_report\n",
    "target_names = soil_codes.keys()\n",
    "print(classification_report(y_test, y_pred, target_names=target_names))"
   ]
  },
  {
   "cell_type": "code",
   "execution_count": null,
   "id": "fae4d6e9-a984-40f5-bdc1-b642a3088535",
   "metadata": {},
   "outputs": [],
   "source": []
  }
 ],
 "metadata": {
  "kernelspec": {
   "display_name": "Python 3 (ipykernel)",
   "language": "python",
   "name": "python3"
  },
  "language_info": {
   "codemirror_mode": {
    "name": "ipython",
    "version": 3
   },
   "file_extension": ".py",
   "mimetype": "text/x-python",
   "name": "python",
   "nbconvert_exporter": "python",
   "pygments_lexer": "ipython3",
   "version": "3.11.6"
  }
 },
 "nbformat": 4,
 "nbformat_minor": 5
}
